{
 "cells": [
  {
   "cell_type": "code",
   "execution_count": null,
   "metadata": {},
   "outputs": [],
   "source": [
    "from dotenv import load_dotenv\n",
    "load_dotenv()"
   ]
  },
  {
   "cell_type": "code",
   "execution_count": null,
   "metadata": {},
   "outputs": [],
   "source": [
    "from typing import Annotated\n",
    "from typing_extensions import TypedDict\n",
    "from langchain_openai import ChatOpenAI\n",
    "from langgraph.graph import StateGraph, START, END\n",
    "from langgraph.graph.message import add_messages\n",
    "from langgraph.prebuilt import ToolNode, tools_condition\n",
    "from langchain_core.tools import tool\n",
    "\n",
    "\n",
    "\n",
    "########## 1. 상태 정의 ##########\n",
    "# 상태 정의\n",
    "class State(TypedDict):\n",
    "    # 메시지 목록 주석 추가\n",
    "    messages: Annotated[list, add_messages]\n",
    "\n",
    "\n",
    "########## 2. 도구 정의 및 바인딩 ##########\n",
    "# 도구 초기화\n",
    "@tool\n",
    "def get_weather(location: str):\n",
    "    \"\"\"Call to get the current weather.\"\"\"\n",
    "    if location in [\"서울\", \"인천\"]:\n",
    "        return \"현재 기온은 20도이고 구름이 많아.\"\n",
    "    else:\n",
    "        return \"현재 기온은 30도이며 맑아\"\n",
    "    \n",
    "\n",
    "@tool\n",
    "def get_coolest_cities():\n",
    "    \"\"\"Get a list of coolest cities\"\"\"\n",
    "    return \"서울, 인천\"\n",
    "\n",
    "\n",
    "tools = [get_weather, get_coolest_cities]\n",
    "\n",
    "# LLM 초기화\n",
    "llm = ChatOpenAI(model=\"gpt-4o-mini\")\n",
    "\n",
    "# 도구와 LLM 결합\n",
    "llm_with_tools = llm.bind_tools(tools)\n",
    "\n",
    "\n",
    "########## 3. 노드 추가 ##########\n",
    "# 챗봇 함수 정의\n",
    "def chatbot(state: State):\n",
    "    # 메시지 호출 및 반환\n",
    "    return {\"messages\": [llm_with_tools.invoke(state[\"messages\"])]}\n",
    "\n",
    "\n",
    "# 상태 그래프 생성\n",
    "graph_builder = StateGraph(State)\n",
    "\n",
    "# 챗봇 노드 추가\n",
    "graph_builder.add_node(\"chatbot\", chatbot)\n",
    "\n",
    "# 도구 노드 생성 및 추가\n",
    "tool_node = ToolNode(tools=[tool])\n",
    "\n",
    "# 도구 노드 추가\n",
    "graph_builder.add_node(\"tools\", tool_node)\n",
    "\n",
    "# 조건부 엣지\n",
    "graph_builder.add_conditional_edges(\n",
    "    \"chatbot\",\n",
    "    tools_condition,\n",
    ")\n",
    "\n",
    "########## 4. 엣지 추가 ##########\n",
    "\n",
    "# tools > chatbot\n",
    "graph_builder.add_edge(\"tools\", \"chatbot\")\n",
    "\n",
    "# START > chatbot\n",
    "graph_builder.add_edge(START, \"chatbot\")\n",
    "\n",
    "# chatbot > END\n",
    "graph_builder.add_edge(\"chatbot\", END)\n"
   ]
  },
  {
   "cell_type": "code",
   "execution_count": 9,
   "metadata": {},
   "outputs": [],
   "source": [
    "# 그래프 빌더 컴파일\n",
    "from langgraph.checkpoint.memory import MemorySaver\n",
    "\n",
    "# 메모리 저장소 생성\n",
    "memory = MemorySaver()\n",
    "\n",
    "\n",
    "graph = graph_builder.compile()"
   ]
  },
  {
   "cell_type": "code",
   "execution_count": null,
   "metadata": {},
   "outputs": [],
   "source": [
    "question = (\n",
    "    \"서울날씨어떄?\"\n",
    ")\n",
    "\n",
    "for event in graph.stream({\"messages\": [(\"user\", question)]}):\n",
    "    for value in event.values():\n",
    "        value[\"messages\"][-1].pretty_print()"
   ]
  },
  {
   "cell_type": "code",
   "execution_count": 29,
   "metadata": {},
   "outputs": [],
   "source": [
    "from dotenv import load_dotenv\n",
    "from langchain_core.tools import tool\n",
    "from typing import Annotated\n",
    "from typing_extensions import TypedDict\n",
    "from langchain_openai import ChatOpenAI\n",
    "from langgraph.graph import StateGraph, MessagesState, START, END\n",
    "from langgraph.prebuilt import ToolNode\n",
    "\n",
    "load_dotenv()\n",
    "\n",
    "\n",
    "class State(TypedDict):\n",
    "    # 메시지 목록 주석 추가\n",
    "    messages: Annotated[list, add_messages]\n",
    "\n",
    "@tool\n",
    "def get_weather(location: str):\n",
    "    \"\"\"Call to get the current weather.\"\"\"\n",
    "    if location in [\"서울\", \"인천\"]:\n",
    "        return \"현재 기온은 20도이고 구름이 많아.\"\n",
    "    else:\n",
    "        return \"현재 기온은 30도이며 맑아\"\n",
    "\n",
    "\n",
    "\n",
    "\n",
    "\n",
    "\n",
    "tools = [get_weather]\n",
    "tool_node = ToolNode(tools)\n",
    "model_with_tools = ChatOpenAI(model=\"gpt-4o-mini\", temperature=0).bind_tools(tools)\n",
    "\n",
    "\n",
    "def should_continue(state: State):\n",
    "    messages = state[\"messages\"]\n",
    "    last_message = messages[-1]\n",
    "    if last_message.tool_calls:\n",
    "        return \"tools\"\n",
    "    return END\n",
    "\n",
    "\n",
    "def call_model(state: State):\n",
    "    messages = state[\"messages\"]\n",
    "    response = model_with_tools.invoke(messages)\n",
    "    return {\"messages\": [response]}\n",
    "\n",
    "\n",
    "workflow = StateGraph(State)\n",
    "\n",
    "workflow.add_node(\"agent\", call_model)\n",
    "workflow.add_node(\"tools\", tool_node)\n",
    "\n",
    "workflow.add_edge(START, \"agent\")\n",
    "workflow.add_conditional_edges(\"agent\", should_continue, [\"tools\", END])\n",
    "workflow.add_edge(\"tools\", \"agent\")\n",
    "\n",
    "\n",
    "from langgraph.checkpoint.memory import MemorySaver\n",
    "\n",
    "# 메모리 저장소 생성\n",
    "memory = MemorySaver()\n",
    "\n",
    "app = workflow.compile(checkpointer=memory)\n"
   ]
  },
  {
   "cell_type": "code",
   "execution_count": 30,
   "metadata": {},
   "outputs": [],
   "source": [
    "from langchain_core.runnables import RunnableConfig\n",
    "\n",
    "config = RunnableConfig(\n",
    "    recursion_limit=10,  # 최대 10개의 노드까지 방문. 그 이상은 RecursionError 발생\n",
    "    configurable={\"thread_id\": \"1\"},  # 스레드 ID 설정\n",
    ")\n"
   ]
  },
  {
   "cell_type": "code",
   "execution_count": 34,
   "metadata": {},
   "outputs": [
    {
     "name": "stdout",
     "output_type": "stream",
     "text": [
      "================================\u001b[1m Human Message \u001b[0m=================================\n",
      "\n",
      "내가 뭘 좋아한다고?\n",
      "==================================\u001b[1m Ai Message \u001b[0m==================================\n",
      "\n",
      "당신은 치킨을 좋아한다고 말씀하셨습니다!\n"
     ]
    }
   ],
   "source": [
    "for chunk in app.stream(\n",
    "    {\"messages\": [(\"human\", \"내가 뭘 좋아한다고?\")]}, stream_mode=\"values\", config=config\n",
    "):\n",
    "    chunk[\"messages\"][-1].pretty_print()\n"
   ]
  },
  {
   "cell_type": "code",
   "execution_count": 32,
   "metadata": {},
   "outputs": [],
   "source": [
    "prepositions = [\n",
    "    'about', 'above', 'across', 'after', 'against', 'along', 'among', 'around',\n",
    "    'at', 'before', 'behind', 'below', 'beneath', 'beside', 'between', 'beyond',\n",
    "    'by', 'concerning', 'despite', 'down', 'during', 'except', 'for', 'from',\n",
    "    'in', 'inside', 'into', 'like', 'near', 'of', 'off', 'on', 'onto',\n",
    "    'out', 'outside', 'over', 'past', 'regarding', 'since', 'through',\n",
    "    'throughout', 'till', 'to', 'toward', 'under', 'underneath', 'until',\n",
    "    'up', 'upon', 'with', 'within', 'without'\n",
    "]\n",
    "\n",
    "conjunctions = [\n",
    "    'and', 'but', 'or', 'nor', 'for', 'yet', 'so',\n",
    "    'both', 'either', 'neither', 'not only', 'but also', 'whether', 'or',\n",
    "    'after', 'although', 'as', 'because', 'before', 'even if', 'even though',\n",
    "    'if', 'once', 'since', 'so that', 'than', 'that', 'though', 'unless',\n",
    "    'until', 'when', 'whenever', 'where', 'whereas', 'wherever', 'whether',\n",
    "    'while'\n",
    "]\n",
    "\n",
    "\n",
    "\n",
    "prepositions_conjunctions_list = prepositions + conjunctions"
   ]
  },
  {
   "cell_type": "code",
   "execution_count": 37,
   "metadata": {},
   "outputs": [
    {
     "name": "stdout",
     "output_type": "stream",
     "text": [
      "client_stream_activated_on_product\n",
      "client_stream_active_on_subscription\n"
     ]
    }
   ],
   "source": [
    "from langchain.schema import Document\n",
    "table_info = Document(metadata={}, page_content=\"client_stream_activated_on_product: 고객이 제품을 활성화할 때 트리거되는 활동 데이터\\nColumns:\\n id: 이 테이블의 기본 키\\nentity_id: 고객의 엔티티 ID\\nactivity_ts: 활동이 발생한 타임스탬프\\nactivity: 활동의 이름\\nrevenue_impact: 활동의 수익 영향\\nfeature_json: 활동과 관련된 기능 데이터를 포함하는 JSON 문자열로, 'active_users', 'churn_risk_users', 'churned_users', \\n'free_users', 'paid_users', 'grace_period_users', 'canceled_users', 'new_users', 'returning_users', \\n'trial_users'와 같은 고객 세그먼트와 'basic_plan', 'standard_plan', 'premium_plan', 'monthly_plan', \\n'annual_plan', 'lifetime_plan'과 같은 요금제 유형, 그리고 'chris', 'john', 'jane', 'jim', 'jill', 'james'와 \\n같은 CSM 이름, 'tier1', 'tier2', 'tier3', 'tier4', 'tier5'와 같은 MRR 등급 유형이 포함됩니다.\\n\"), Document(metadata={}, page_content=\"client_stream_active_on_subscription: 고객이 구독에서 활동 중일 때 트리거되는 활동 데이터\\nColumns:\\n id: 이 테이블의 기본 키\\nentity_id: 고객의 엔티티 ID\\nactivity_ts: 활동이 발생한 타임스탬프\\nactivity: 활동 이름\\nrevenue_impact: 활동의 수익 영향(해당되는 경우)\\nfeature_json: 활동과 관련된 기능 데이터를 포함하는 JSON 문자열로, 'active_users', 'churn_risk_users', 'churned_users', 'free_users', 'paid_users', 'grace_period_users', 'canceled_users', 'new_users', 'returning_users', 'trial_users'와 같은 고객 세그먼트 및 'basic_plan', 'standard_plan', 'premium_plan', 'monthly_plan', 'annual_plan', 'lifetime_plan'과 같은 플랜 유형을 포함합니다.\")\n",
    "\n",
    "\n",
    "prefix_count = {}\n",
    "\n",
    "\n",
    "for table in range(len(table_info)):\n",
    "    table_name = (table_info[table].page_content.split(':')[0].strip())\n",
    "    print(table_name)\n",
    "        \n"
   ]
  },
  {
   "cell_type": "code",
   "execution_count": 27,
   "metadata": {},
   "outputs": [
    {
     "data": {
      "text/plain": [
       "4"
      ]
     },
     "execution_count": 27,
     "metadata": {},
     "output_type": "execute_result"
    }
   ],
   "source": [
    "s = \"client_stream_activated_on_product\"\n",
    "s.count('_')\n",
    "\n"
   ]
  },
  {
   "cell_type": "code",
   "execution_count": 36,
   "metadata": {},
   "outputs": [
    {
     "name": "stdout",
     "output_type": "stream",
     "text": [
      "테이블별 언더스코어 개수:\n",
      "client_stream_activated_on_product: 4개\n",
      "client_stream_active_on_subscription: 4개\n"
     ]
    }
   ],
   "source": [
    "from langchain.schema import Document\n",
    "table_info = Document(metadata={}, page_content=\"client_stream_activated_on_product: 고객이 제품을 활성화할 때 트리거되는 활동 데이터\\nColumns:\\n id: 이 테이블의 기본 키\\nentity_id: 고객의 엔티티 ID\\nactivity_ts: 활동이 발생한 타임스탬프\\nactivity: 활동의 이름\\nrevenue_impact: 활동의 수익 영향\\nfeature_json: 활동과 관련된 기능 데이터를 포함하는 JSON 문자열로, 'active_users', 'churn_risk_users', 'churned_users', \\n'free_users', 'paid_users', 'grace_period_users', 'canceled_users', 'new_users', 'returning_users', \\n'trial_users'와 같은 고객 세그먼트와 'basic_plan', 'standard_plan', 'premium_plan', 'monthly_plan', \\n'annual_plan', 'lifetime_plan'과 같은 요금제 유형, 그리고 'chris', 'john', 'jane', 'jim', 'jill', 'james'와 \\n같은 CSM 이름, 'tier1', 'tier2', 'tier3', 'tier4', 'tier5'와 같은 MRR 등급 유형이 포함됩니다.\\n\"), Document(metadata={}, page_content=\"client_stream_active_on_subscription: 고객이 구독에서 활동 중일 때 트리거되는 활동 데이터\\nColumns:\\n id: 이 테이블의 기본 키\\nentity_id: 고객의 엔티티 ID\\nactivity_ts: 활동이 발생한 타임스탬프\\nactivity: 활동 이름\\nrevenue_impact: 활동의 수익 영향(해당되는 경우)\\nfeature_json: 활동과 관련된 기능 데이터를 포함하는 JSON 문자열로, 'active_users', 'churn_risk_users', 'churned_users', 'free_users', 'paid_users', 'grace_period_users', 'canceled_users', 'new_users', 'returning_users', 'trial_users'와 같은 고객 세그먼트 및 'basic_plan', 'standard_plan', 'premium_plan', 'monthly_plan', 'annual_plan', 'lifetime_plan'과 같은 플랜 유형을 포함합니다.\")\n",
    "\n",
    "# 언더스코어 개수를 저장할 딕셔너리\n",
    "underscore_count = {}\n",
    "\n",
    "for table in range(len(table_info)):\n",
    "    table_name = table_info[table].page_content.split(':')[0].strip()\n",
    "    # 언더스코어 개수 계산\n",
    "    count = table_name.count('_')\n",
    "    # 딕셔너리에 저장\n",
    "    underscore_count[table_name] = count\n",
    "\n",
    "print(\"테이블별 언더스코어 개수:\")\n",
    "for table_name, count in underscore_count.items():\n",
    "    print(f\"{table_name}: {count}개\")"
   ]
  },
  {
   "cell_type": "code",
   "execution_count": 54,
   "metadata": {},
   "outputs": [
    {
     "name": "stdout",
     "output_type": "stream",
     "text": [
      "5\n",
      "{'first_list': ['client', 'client'], 'second_list': ['stream', 'stream'], 'third_list': ['activated', 'active'], 'fourth_list': [], 'fifth_list': ['product', 'subscription']}\n"
     ]
    }
   ],
   "source": [
    "from langchain.schema import Document\n",
    "\n",
    "table_info = [\n",
    "    Document(metadata={}, page_content=\"client_stream_activated_on_product: 고객이 제품을 활성화할 때 트리거되는 활동 데이터\\nColumns:\\n id: 이 테이블의 기본 키\\nentity_id: 고객의 엔티티 ID\\nactivity_ts: 활동이 발생한 타임스탬프\\nactivity: 활동의 이름\\nrevenue_impact: 활동의 수익 영향\\nfeature_json: 활동과 관련된 기능 데이터를 포함하는 JSON 문자열로, 'active_users', 'churn_risk_users', 'churned_users', \\n'free_users', 'paid_users', 'grace_period_users', 'canceled_users', 'new_users', 'returning_users', \\n'trial_users'와 같은 고객 세그먼트와 'basic_plan', 'standard_plan', 'premium_plan', 'monthly_plan', \\n'annual_plan', 'lifetime_plan'과 같은 요금제 유형, 그리고 'chris', 'john', 'jane', 'jim', 'jill', 'james'와 \\n같은 CSM 이름, 'tier1', 'tier2', 'tier3', 'tier4', 'tier5'와 같은 MRR 등급 유형이 포함됩니다.\\n\"), Document(metadata={}, page_content=\"client_stream_active_on_subscription: 고객이 구독에서 활동 중일 때 트리거되는 활동 데이터\\nColumns:\\n id: 이 테이블의 기본 키\\nentity_id: 고객의 엔티티 ID\\nactivity_ts: 활동이 발생한 타임스탬프\\nactivity: 활동 이름\\nrevenue_impact: 활동의 수익 영향(해당되는 경우)\\nfeature_json: 활동과 관련된 기능 데이터를 포함하는 JSON 문자열로, 'active_users', 'churn_risk_users', 'churned_users', 'free_users', 'paid_users', 'grace_period_users', 'canceled_users', 'new_users', 'returning_users', 'trial_users'와 같은 고객 세그먼트 및 'basic_plan', 'standard_plan', 'premium_plan', 'monthly_plan', 'annual_plan', 'lifetime_plan'과 같은 플랜 유형을 포함합니다.\")# 테이블이 더 있다고 가정\n",
    "]\n",
    "\n",
    "# 테이블별로 분리된 이름을 저장할 리스트들의 리스트\n",
    "split_table_names = []\n",
    "for table in table_info:\n",
    "    table_name = table.page_content.split(':')[0].strip()\n",
    "    split_names = table_name.split('_')\n",
    "    split_table_names.append(split_names)\n",
    "    \n",
    "\n",
    "# 가장 긴 테이블 이름의 길이 구하기\n",
    "max_len = max(len(names) for names in split_table_names)\n",
    "\n",
    "\n",
    "# # 각 위치별 리스트 만들기\n",
    "result_lists = [[] for _ in range(max_len)]\n",
    "\n",
    "\n",
    "for names in split_table_names:\n",
    "    for idx in range(max_len):\n",
    "        # 해당 인덱스가 있으면 추가, 없으면 None 또는 '' 등으로 채움\n",
    "        if idx < len(names):\n",
    "            if names[idx] not in prepositions_conjunctions_list:\n",
    "                result_lists[idx].append(names[idx])\n",
    "            # else:\n",
    "            #     result_lists[idx].append('')\n",
    "                \n",
    "print(len(result_lists))     # 혹은 None\n",
    "\n",
    "# 결과 출력\n",
    "ordinal_names = [\n",
    "    \"first\", \"second\", \"third\", \"fourth\", \"fifth\",\n",
    "    \"sixth\", \"seventh\", \"eighth\", \"ninth\", \"tenth\",\n",
    "    \"eleventh\", \"twelfth\", \"thirteenth\", \"fourteenth\", \"fifteenth\"\n",
    "]\n",
    "\n",
    "# 자연스러운 변수명으로 딕셔너리에 저장\n",
    "named_lists = {}\n",
    "for idx, lst in enumerate(result_lists):\n",
    "    if idx < len(ordinal_names):\n",
    "        var_name = f\"{ordinal_names[idx]}_list\"\n",
    "    else:\n",
    "        var_name = f\"{idx+1}_list\"\n",
    "    named_lists[var_name] = lst\n",
    "\n",
    "\n",
    "print(named_lists)"
   ]
  }
 ],
 "metadata": {
  "kernelspec": {
   "display_name": "lang2sql",
   "language": "python",
   "name": "python3"
  },
  "language_info": {
   "codemirror_mode": {
    "name": "ipython",
    "version": 3
   },
   "file_extension": ".py",
   "mimetype": "text/x-python",
   "name": "python",
   "nbconvert_exporter": "python",
   "pygments_lexer": "ipython3",
   "version": "3.12.9"
  }
 },
 "nbformat": 4,
 "nbformat_minor": 2
}
